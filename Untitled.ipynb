{
 "cells": [
  {
   "cell_type": "code",
   "execution_count": 3,
   "metadata": {
    "collapsed": true
   },
   "outputs": [],
   "source": [
    "import numpy as np\n",
    "import sklearn\n",
    "import matplotlib.pyplot as plt\n",
    "import json"
   ]
  },
  {
   "cell_type": "code",
   "execution_count": 5,
   "metadata": {},
   "outputs": [
    {
     "name": "stdout",
     "output_type": "stream",
     "text": [
      "22\n"
     ]
    }
   ],
   "source": [
    "data = json.load(open('playlist_features.txt'))\n",
    "\n",
    "\"\"\"\n",
    "\"danceability\" : 0.735,\n",
    "  \"energy\" : 0.578,\n",
    "  \"key\" : 5,\n",
    "  \"loudness\" : -11.840,\n",
    "  \"mode\" : 0,\n",
    "  \"speechiness\" : 0.0461,\n",
    "  \"acousticness\" : 0.514,\n",
    "  \"instrumentalness\" : 0.0902,\n",
    "  \"liveness\" : 0.159,\n",
    "  \"valence\" : 0.624,\n",
    "  \"tempo\" : 98.002,\n",
    "\"\"\"\n",
    "\n",
    "#danceability\n",
    "count = 0\n",
    "for item in data:\n",
    "    for i in item:\n",
    "        for j in data[i]:\n",
    "            #print(j['danceability'])\n",
    "            count += 1\n",
    "            \n",
    "print(count)"
   ]
  },
  {
   "cell_type": "code",
   "execution_count": null,
   "metadata": {
    "collapsed": true
   },
   "outputs": [],
   "source": []
  }
 ],
 "metadata": {
  "kernelspec": {
   "display_name": "Python 3",
   "language": "python",
   "name": "python3"
  },
  "language_info": {
   "codemirror_mode": {
    "name": "ipython",
    "version": 3
   },
   "file_extension": ".py",
   "mimetype": "text/x-python",
   "name": "python",
   "nbconvert_exporter": "python",
   "pygments_lexer": "ipython3",
   "version": "3.6.3"
  }
 },
 "nbformat": 4,
 "nbformat_minor": 2
}
